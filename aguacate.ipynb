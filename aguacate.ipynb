{
 "cells": [
  {
   "cell_type": "markdown",
   "metadata": {},
   "source": [
    "## Contexto ##\n",
    "\n",
    "### Había una vez, una distribuidora famosa por su aguacate de primera mano, situada entre el paso de Tierra Caliente y Hermosillo ###\n",
    "\n",
    "#### La productora Familia Michoacana S.A. de C.V., quien controla los negocios y las dinámicas locales, se ha percatado de inconsistencias en la rendición de cuentas por parte de la distribuidora, entonces se busca comprobar la existencia de robo ####"
   ]
  },
  {
   "cell_type": "code",
   "execution_count": 1,
   "metadata": {},
   "outputs": [
    {
     "name": "stdout",
     "output_type": "stream",
     "text": [
      "Se inician operaciones con 1000 piezas de aguacate en inventario; y diariamente se venden 850 piezas.\n",
      "Al finalizar las actividades deben de quedar 150 piezas de aguacate en inventario.\n",
      "Al final del día se registró el robo de 50 piezas de aguacate en el turno matutino.\n",
      "Al final del día se registró el robo de 25 piezas de aguacate en el turno vespertino.\n",
      "El robo total de aguacates es igual a 75 piezas al día.\n"
     ]
    }
   ],
   "source": [
    "aguacate_inv = 1000 # Variable global. Todos los días se reciben 1000 piezas de aguacate en la distribuidora.\n",
    "venta_mat = 450 # Constante. Venta de aguacates en el turno matutino.\n",
    "venta_ves = 400 # Constante. Venta de aguacates en el turno vespertino.\n",
    "aguacate_fin = aguacate_inv - venta_mat - venta_ves # Variable global. Inventario al final del día.\n",
    "\n",
    "print (\"Se inician operaciones con\", aguacate_inv, \"piezas de aguacate en inventario; y diariamente se venden\", (venta_mat + venta_ves), \"piezas.\" )\n",
    "print (\"Al finalizar las actividades deben de quedar\",aguacate_fin,\"piezas de aguacate en inventario.\")\n",
    "\n",
    "def faltante_mat (aguacate_inv, aguacate_fin_mat,venta_mat):\n",
    "    aguacate_inv = 1000 # Variable local. Inventario al inicio del turno matutino.\n",
    "    aguacate_fin = 500 # Variable local. Inventario registrado al final del turno matutino.\n",
    "    return aguacate_inv-venta_mat-aguacate_fin\n",
    "robo_mat = faltante_mat(aguacate_inv,aguacate_fin,venta_mat) # Aguacates faltantes al finalizar el turno matutino.\n",
    "\n",
    "print(\"Al final del día se registró el robo de\",robo_mat,\"piezas de aguacate en el turno matutino.\")\n",
    "\n",
    "def faltante_ves (aguacate_inv, aguacate_fin,venta_ves):\n",
    "    aguacate_inv = 500 # Variable local. Inventario al inicio del turno vespertino.\n",
    "    aguacate_fin = 75 # Inventario registrado al final del turno vespertino.\n",
    "    return aguacate_inv-venta_ves-aguacate_fin\n",
    "robo_ves = faltante_ves(aguacate_inv,aguacate_fin,venta_ves) # Aguacates faltantes al finalizar el turno vespertino.\n",
    "\n",
    "print(\"Al final del día se registró el robo de\",robo_ves,\"piezas de aguacate en el turno vespertino.\")\n",
    "\n",
    "print(\"El robo total de aguacates es igual a\",(robo_mat+robo_ves),\"piezas al día.\")\n"
   ]
  }
 ],
 "metadata": {
  "kernelspec": {
   "display_name": "Python 3",
   "language": "python",
   "name": "python3"
  },
  "language_info": {
   "codemirror_mode": {
    "name": "ipython",
    "version": 3
   },
   "file_extension": ".py",
   "mimetype": "text/x-python",
   "name": "python",
   "nbconvert_exporter": "python",
   "pygments_lexer": "ipython3",
   "version": "3.11.4"
  }
 },
 "nbformat": 4,
 "nbformat_minor": 2
}
